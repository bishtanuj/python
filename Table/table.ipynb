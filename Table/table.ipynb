{
 "cells": [
  {
   "cell_type": "markdown",
   "metadata": {},
   "source": [
    "Program to print the table"
   ]
  },
  {
   "cell_type": "code",
   "execution_count": null,
   "metadata": {},
   "outputs": [],
   "source": [
    "# Scanning the number\n",
    "number = int(input(\"Enter the number: \"))\n",
    "print(\"Number you have entered:\", number)"
   ]
  },
  {
   "cell_type": "code",
   "execution_count": null,
   "metadata": {},
   "outputs": [],
   "source": [
    "# Printing the table\n",
    "print(f\"Table of {number}:\")\n",
    "for i in range(1, 11):\n",
    "    product = number * i\n",
    "    print(f\"{number} * {i} = {product}\")"
   ]
  }
 ],
 "metadata": {
  "kernelspec": {
   "display_name": "Python 3.10.5 64-bit",
   "language": "python",
   "name": "python3"
  },
  "language_info": {
   "codemirror_mode": {
    "name": "ipython",
    "version": 3
   },
   "file_extension": ".py",
   "mimetype": "text/x-python",
   "name": "python",
   "nbconvert_exporter": "python",
   "pygments_lexer": "ipython3",
   "version": "3.10.5"
  },
  "orig_nbformat": 4,
  "vscode": {
   "interpreter": {
    "hash": "9f0fd6338d4ee50d5cfda60dde76df1698816ba5df9385a69cc401a01ca73fa1"
   }
  }
 },
 "nbformat": 4,
 "nbformat_minor": 2
}
