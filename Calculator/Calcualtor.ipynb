{
 "cells": [
  {
   "cell_type": "markdown",
   "metadata": {},
   "source": [
    "### Program for the calculator\n"
   ]
  },
  {
   "cell_type": "code",
   "execution_count": 6,
   "metadata": {},
   "outputs": [
    {
     "name": "stdout",
     "output_type": "stream",
     "text": [
      "Calculator\n",
      "1.   Add\n",
      "2.   Subtract\n",
      "3.   Product\n",
      "4.   Division\n",
      "5.   Exponent\n",
      "6.   EXIT\n"
     ]
    }
   ],
   "source": [
    "# Printing the menu\n",
    "\n",
    "print(\"Calculator\")\n",
    "print(\"1.   Add\")\n",
    "print(\"2.   Subtract\")\n",
    "print(\"3.   Product\")\n",
    "print(\"4.   Division\")\n",
    "print(\"5.   Exponent\")\n",
    "print(\"6.   EXIT\")\n"
   ]
  },
  {
   "cell_type": "code",
   "execution_count": 16,
   "metadata": {},
   "outputs": [
    {
     "name": "stdout",
     "output_type": "stream",
     "text": [
      "Your choice:  3\n"
     ]
    }
   ],
   "source": [
    "# Scanning the choice \n",
    "choice = int(input(\"Enter your choice: \"))\n",
    "print(\"Your choice: \", choice)"
   ]
  },
  {
   "cell_type": "code",
   "execution_count": 17,
   "metadata": {},
   "outputs": [
    {
     "name": "stdout",
     "output_type": "stream",
     "text": [
      "Product: 30\n"
     ]
    }
   ],
   "source": [
    "# Calculating \n",
    "\n",
    "if choice == 1:\n",
    "    x = int(input(\"Enter first number: \"))\n",
    "    y = int(input(\"Enter second number: \"))\n",
    "    add = x + y\n",
    "    print(\"Addition:\", add)\n",
    "elif choice == 2:\n",
    "    x = int(input(\"Enter first number: \"))\n",
    "    y = int(input(\"Enter second number: \"))\n",
    "    subtraction = x - y\n",
    "    print(\"Subtraction: \", subtraction)\n",
    "elif choice == 3:\n",
    "    x = int(input(\"Enter multiplicand: \"))\n",
    "    y = int(input(\"Enter multiplier: \"))\n",
    "    product = x * y\n",
    "    print(\"Product:\", product)\n",
    "elif choice == 4:\n",
    "    x = int(input(\"Enter dividend: \"))\n",
    "    y = int(input(\"Enter divisor: \"))\n",
    "    if y > x:\n",
    "        division = x / y\n",
    "        print(\"Division:\", division)\n",
    "    else:\n",
    "        division = x // y\n",
    "        print(\"Division:\", division)\n",
    "elif choice == 5:\n",
    "    x = int(input(\"Enter the number: \"))\n",
    "    y = int(input(\"Enter the power: \"))\n",
    "    exponent = x ** y\n",
    "    print(\"Exponent:\", exponent)\n",
    "elif choice == 6:\n",
    "    print(\"Thanks for using\")\n",
    "else:\n",
    "    print(\"!! Enter right choice !!\")"
   ]
  }
 ],
 "metadata": {
  "kernelspec": {
   "display_name": "Python 3.10.5 64-bit",
   "language": "python",
   "name": "python3"
  },
  "language_info": {
   "codemirror_mode": {
    "name": "ipython",
    "version": 3
   },
   "file_extension": ".py",
   "mimetype": "text/x-python",
   "name": "python",
   "nbconvert_exporter": "python",
   "pygments_lexer": "ipython3",
   "version": "3.10.5"
  },
  "orig_nbformat": 4,
  "vscode": {
   "interpreter": {
    "hash": "9f0fd6338d4ee50d5cfda60dde76df1698816ba5df9385a69cc401a01ca73fa1"
   }
  }
 },
 "nbformat": 4,
 "nbformat_minor": 2
}
